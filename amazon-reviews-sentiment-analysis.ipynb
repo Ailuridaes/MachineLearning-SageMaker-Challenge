{
 "cells": [
  {
   "cell_type": "markdown",
   "metadata": {},
   "source": [
    "# Amazon reviews data transformation\n",
    "> **Before you start**: \n",
    ">\n",
    "> Download this file, uncompress it and place the files `train.csv` and `test.csv` at the root of the `MachineLearning-SageMaker-Challenge` directory. \n",
    ">\n",
    "> **[m.serverless.link/now](https://m.serverless.link/now)**\n",
    "\n",
    "\n",
    "This notebook will help you transfor the original [Amazon Reviews](https://course.fast.ai/datasets) dataset to be a BlazingText format, for example:\n",
    "\n",
    "```\n",
    "__label__YOUR_LABEL_NAME I've used spincast reels for over 40 years...\n",
    "```\n",
    "\n",
    "Where `YOUR_LABEL_NAME` is the label that you want to apply to that review e.g. `positive`, `negative`, `neutral`, `other`, etc..."
   ]
  },
  {
   "cell_type": "code",
   "execution_count": 12,
   "metadata": {
    "scrolled": false
   },
   "outputs": [
    {
     "data": {
      "text/plain": [
       "sourceName = train\n",
       "dfr = [_c0: string, _c1: string ... 1 more field]\n"
      ]
     },
     "metadata": {},
     "output_type": "display_data"
    },
    {
     "data": {
      "text/plain": [
       "lastException: Throwable = null\n"
      ]
     },
     "metadata": {},
     "output_type": "display_data"
    },
    {
     "data": {
      "text/plain": [
       "[_c0: string, _c1: string ... 1 more field]"
      ]
     },
     "execution_count": 12,
     "metadata": {},
     "output_type": "execute_result"
    }
   ],
   "source": [
    "val sourceName = \"train\"\n",
    "val dfr = spark.read\n",
    "  .option(\"escape\", \"\\\"\")\n",
    "  .format(\"csv\")\n",
    "  .load(s\"/home/jovyan/$sourceName.csv\")"
   ]
  },
  {
   "cell_type": "markdown",
   "metadata": {},
   "source": [
    "### Optional\n",
    "The following block displays information about the data that was loaded:"
   ]
  },
  {
   "cell_type": "code",
   "execution_count": 13,
   "metadata": {},
   "outputs": [
    {
     "name": "stdout",
     "output_type": "stream",
     "text": [
      "root\n",
      " |-- _c0: string (nullable = true)\n",
      " |-- _c1: string (nullable = true)\n",
      " |-- _c2: string (nullable = true)\n",
      "\n",
      "+---+--------------------+--------------------+\n",
      "|_c0|                 _c1|                 _c2|\n",
      "+---+--------------------+--------------------+\n",
      "|  3|  more like funchuck|Gave this to my d...|\n",
      "|  5|           Inspiring|I hope a lot of p...|\n",
      "|  5|The best soundtra...|I'm reading a lot...|\n",
      "|  4|    Chrono Cross OST|The music of Yasu...|\n",
      "|  5| Too good to be true|Probably the grea...|\n",
      "|  5|There's a reason ...|There's a reason ...|\n",
      "|  1|        Buyer beware|This is a self-pu...|\n",
      "|  4|Errors, but great...|I was a dissapoin...|\n",
      "|  1|          The Worst!|A complete waste ...|\n",
      "|  1|           Oh please|I guess you have ...|\n",
      "|  1|Awful beyond belief!|I feel I have to ...|\n",
      "|  4|A romantic zen ba...|When you hear fol...|\n",
      "|  5|Lower leg comfort...|Excellent stockin...|\n",
      "|  3|Delivery was very...|It took almost 3 ...|\n",
      "|  2|sizes recomended ...|sizes are much sm...|\n",
      "|  3|            Overbury|Full of intrigue ...|\n",
      "|  1|Another Abysmal D...|Rather than scrat...|\n",
      "|  4|Wardell's book is...|Steven Wardell's ...|\n",
      "|  4|i liked this albu...|I heard a song or...|\n",
      "|  3|Better than I tho...|I wrote a harsh r...|\n",
      "+---+--------------------+--------------------+\n",
      "only showing top 20 rows\n",
      "\n"
     ]
    },
    {
     "data": {
      "text/plain": [
       "3000000"
      ]
     },
     "execution_count": 13,
     "metadata": {},
     "output_type": "execute_result"
    }
   ],
   "source": [
    "dfr.printSchema()\n",
    "dfr.show()\n",
    "dfr.count()"
   ]
  },
  {
   "cell_type": "markdown",
   "metadata": {},
   "source": [
    "## This is a temp class to load the review data"
   ]
  },
  {
   "cell_type": "code",
   "execution_count": 15,
   "metadata": {},
   "outputs": [
    {
     "data": {
      "text/plain": [
       "defined class Sentiment\n"
      ]
     },
     "metadata": {},
     "output_type": "display_data"
    }
   ],
   "source": [
    "case class Sentiment(text: String, sentiment: String) {\n",
    "    var _sentiment = sentiment;\n",
    "    \n",
    "    override def toString(): String = {\n",
    "        s\"__label__$sentiment $text\"\n",
    "    }\n",
    "}"
   ]
  },
  {
   "cell_type": "markdown",
   "metadata": {},
   "source": [
    "## TODO: \n",
    "### transfor each row of the data to `Sentiment` and clean up using the `filter` method"
   ]
  },
  {
   "cell_type": "code",
   "execution_count": 16,
   "metadata": {},
   "outputs": [
    {
     "data": {
      "text/plain": [
       "dfr2 = [text: string, sentiment: string]\n"
      ]
     },
     "metadata": {},
     "output_type": "display_data"
    },
    {
     "data": {
      "text/plain": [
       "[text: string, sentiment: string]"
      ]
     },
     "execution_count": 16,
     "metadata": {},
     "output_type": "execute_result"
    }
   ],
   "source": [
    "val dfr2 = dfr.map(r => {\n",
    "    val stars: String = r.getString(0)\n",
    "    val title: String = r.getString(1) // You may want to do something with this?\n",
    "    val text: String = r.getString(2) \n",
    "    \n",
    "    // In scala, the last expression in each statement is taken to be the return value.\n",
    "    // The following if/else statement should create and return a Sentiment object.\n",
    "    if(stars == \"1\" || stars == \"2\") {\n",
    "        Sentiment(text, \"negative\")\n",
    "    } else if(stars == \"4\" || stars == \"5\") {\n",
    "        Sentiment(text, \"positive\")\n",
    "    } else if(stars == \"3\") {\n",
    "        Sentiment(text, \"neutral\")\n",
    "    } else {\n",
    "        Sentiment(text, \"null\")\n",
    "    }\n",
    "})\n",
    ".filter(r => r._sentiment != \"null\") // <===== TODO: REMOVE ANY DATA YOU MAY NOT WANT IN YOUR FINAL RESULTS"
   ]
  },
  {
   "cell_type": "markdown",
   "metadata": {},
   "source": [
    "### Optional\n",
    "Let's check the total number of records after they were filtered"
   ]
  },
  {
   "cell_type": "code",
   "execution_count": 17,
   "metadata": {},
   "outputs": [
    {
     "data": {
      "text/plain": [
       "3000000"
      ]
     },
     "execution_count": 17,
     "metadata": {},
     "output_type": "execute_result"
    }
   ],
   "source": [
    "dfr2.count()"
   ]
  },
  {
   "cell_type": "markdown",
   "metadata": {},
   "source": [
    "## Save the transformed data"
   ]
  },
  {
   "cell_type": "code",
   "execution_count": 18,
   "metadata": {},
   "outputs": [],
   "source": [
    "dfr2\n",
    "    .map(r => r.toString())\n",
    "    .coalesce(1)\n",
    "    .write.text(s\"/home/jovyan/transformed-$sourceName\")"
   ]
  },
  {
   "cell_type": "markdown",
   "metadata": {},
   "source": [
    "## Rename and move file\n",
    "The output will be located in the `transformed-SOURCE_NAME` directory. Rename the file to `train.txt` or `test.txt` and upload it to the MLData bucket created in **Level 00** ."
   ]
  },
  {
   "cell_type": "markdown",
   "metadata": {},
   "source": [
    "## Re-run the process\n",
    "**This time** change the value of the variable `sourceName` from `train` to `test` "
   ]
  }
 ],
 "metadata": {
  "kernelspec": {
   "display_name": "Apache Toree - Scala",
   "language": "scala",
   "name": "apache_toree_scala"
  },
  "language_info": {
   "codemirror_mode": "text/x-scala",
   "file_extension": ".scala",
   "mimetype": "text/x-scala",
   "name": "scala",
   "pygments_lexer": "scala",
   "version": "2.11.8"
  }
 },
 "nbformat": 4,
 "nbformat_minor": 2
}
