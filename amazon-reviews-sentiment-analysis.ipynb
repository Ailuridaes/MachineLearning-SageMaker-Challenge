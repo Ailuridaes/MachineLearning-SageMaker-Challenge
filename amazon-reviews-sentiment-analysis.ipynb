{
 "cells": [
  {
   "cell_type": "markdown",
   "metadata": {},
   "source": [
    "# Amazon reviews data transformation\n",
    "> **Before you start**: \n",
    ">\n",
    "> Download this file, uncompress it and place the files `train.csv` and `test.csv` at the root of the `MachineLearning-SageMaker-Challenge` directory. \n",
    ">\n",
    "> **[m.serverless.link/now](https://m.serverless.link/now)**\n",
    "\n",
    "\n",
    "This notebook will help you transfor the original [Amazon Reviews](https://course.fast.ai/datasets) dataset to be a BlazingText format, for example:\n",
    "\n",
    "```\n",
    "__label__YOUR_LABEL_NAME I've used spincast reels for over 40 years...\n",
    "```\n",
    "\n",
    "Where `YOUR_LABEL_NAME` is the label that you want to apply to that review e.g. `positive`, `negative`, `neutral`, `other`, etc..."
   ]
  },
  {
   "cell_type": "code",
   "execution_count": null,
   "metadata": {
    "scrolled": false
   },
   "outputs": [],
   "source": [
    "val sourceName = \"test\"\n",
    "val dfr = spark.read\n",
    "  .option(\"escape\", \"\\\"\")\n",
    "  .format(\"csv\")\n",
    "  .load(s\"/home/jovyan/$sourceName.csv\")"
   ]
  },
  {
   "cell_type": "markdown",
   "metadata": {},
   "source": [
    "### Optional\n",
    "The following block displays information about the data that was loaded:"
   ]
  },
  {
   "cell_type": "code",
   "execution_count": null,
   "metadata": {},
   "outputs": [],
   "source": [
    "dfr.printSchema()\n",
    "dfr.show()\n",
    "dfr.count()"
   ]
  },
  {
   "cell_type": "markdown",
   "metadata": {},
   "source": [
    "## This is a temp class to load the review data"
   ]
  },
  {
   "cell_type": "code",
   "execution_count": null,
   "metadata": {},
   "outputs": [],
   "source": [
    "case class Sentiment(text: String, sentiment: String) {\n",
    "    override def toString(): String = {\n",
    "        s\"__label__$sentiment $text\"\n",
    "    }\n",
    "}"
   ]
  },
  {
   "cell_type": "markdown",
   "metadata": {},
   "source": [
    "## TODO: \n",
    "### transfor each row of the data to `Sentiment` and clean up using the `filter` method"
   ]
  },
  {
   "cell_type": "code",
   "execution_count": null,
   "metadata": {},
   "outputs": [],
   "source": [
    "val dfr2 = dfr.map(r => {\n",
    "    val stars: String = r.getString(0)\n",
    "    val title: String = r.getString(1) // You may want to do something with this?\n",
    "    val text: String = r.getString(2) \n",
    "    \n",
    "    // In scala, the last expression in each statement is taken to be the return value.\n",
    "    // The following if/else statement should create and return a Sentiment object.\n",
    "    if(stars == \"1\") {\n",
    "        Sentiment(text, \"negative\")\n",
    "    } else {\n",
    "        // TODO: LABEL THE REST OF THE DATA IN ANY WAY YOU WANT\n",
    "    }\n",
    "})\n",
    ".filter(r => true) // <===== TODO: REMOVE ANY DATA YOU MAY NOT WANT IN YOUR FINAL RESULTS"
   ]
  },
  {
   "cell_type": "markdown",
   "metadata": {},
   "source": [
    "### Optional\n",
    "Let's check the total number of records after they were filtered"
   ]
  },
  {
   "cell_type": "code",
   "execution_count": null,
   "metadata": {},
   "outputs": [],
   "source": [
    "dfr2.count()"
   ]
  },
  {
   "cell_type": "markdown",
   "metadata": {},
   "source": [
    "## Save the transformed data"
   ]
  },
  {
   "cell_type": "code",
   "execution_count": null,
   "metadata": {},
   "outputs": [],
   "source": [
    "dfr2\n",
    "    .map(r => r.toString())\n",
    "    .coalesce(1)\n",
    "    .write.text(s\"/home/jovyan/transformed-$sourceName\")"
   ]
  },
  {
   "cell_type": "markdown",
   "metadata": {},
   "source": [
    "## Rename and move file\n",
    "The output will be located in the `transformed-SOURCE_NAME` directory. Rename the file to `train.txt` or `test.txt` and upload it to the MLData bucket created in **Level 00** ."
   ]
  },
  {
   "cell_type": "markdown",
   "metadata": {},
   "source": [
    "## Re-run the process\n",
    "**This time** change the value of the variable `sourceName` from `train` to `test` "
   ]
  }
 ],
 "metadata": {
  "kernelspec": {
   "display_name": "Apache Toree - Scala",
   "language": "scala",
   "name": "apache_toree_scala"
  },
  "language_info": {
   "codemirror_mode": "text/x-scala",
   "file_extension": ".scala",
   "mimetype": "text/x-scala",
   "name": "scala",
   "pygments_lexer": "scala",
   "version": "2.11.8"
  }
 },
 "nbformat": 4,
 "nbformat_minor": 2
}
